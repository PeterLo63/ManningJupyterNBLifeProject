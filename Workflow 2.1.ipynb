{
 "cells": [
  {
   "cell_type": "markdown",
   "id": "7636a6b0",
   "metadata": {},
   "source": [
    "# Milestone 2"
   ]
  },
  {
   "cell_type": "markdown",
   "id": "badb8d31",
   "metadata": {},
   "source": [
    "## Importing nltk"
   ]
  },
  {
   "cell_type": "code",
   "execution_count": 1,
   "id": "75d2a158",
   "metadata": {},
   "outputs": [],
   "source": [
    "import nltk as nltk"
   ]
  },
  {
   "cell_type": "markdown",
   "id": "cf972d64",
   "metadata": {},
   "source": [
    "## Installing NumPy"
   ]
  },
  {
   "cell_type": "code",
   "execution_count": 2,
   "id": "13e4e2b3",
   "metadata": {},
   "outputs": [
    {
     "name": "stdout",
     "output_type": "stream",
     "text": [
      "Requirement already satisfied: NumPy in d:\\jupyterliveproject\\programs\\python\\python39\\lib\\site-packages (1.20.3)\n",
      "Note: you may need to restart the kernel to use updated packages.\n"
     ]
    }
   ],
   "source": [
    "pip install NumPy"
   ]
  },
  {
   "cell_type": "markdown",
   "id": "821ff996",
   "metadata": {},
   "source": [
    "## Try out some La Tex"
   ]
  },
  {
   "cell_type": "markdown",
   "id": "de0174af",
   "metadata": {},
   "source": [
    "$ ( a^2 + b^2 = c^2 ) $"
   ]
  },
  {
   "cell_type": "markdown",
   "id": "b6a68443",
   "metadata": {},
   "source": [
    "## Factorials, Factorials"
   ]
  },
  {
   "cell_type": "code",
   "execution_count": 3,
   "id": "9d694dbc",
   "metadata": {},
   "outputs": [],
   "source": [
    "def factorialA(n: int) -> int:\n",
    "    f = 1\n",
    "    for i in range(n, 1, -1):\n",
    "        f = i * f\n",
    "\n",
    "    return(f)"
   ]
  },
  {
   "cell_type": "code",
   "execution_count": 4,
   "id": "17d96b1d",
   "metadata": {},
   "outputs": [
    {
     "name": "stdout",
     "output_type": "stream",
     "text": [
      "19.9 µs ± 271 ns per loop (mean ± std. dev. of 7 runs, 10000 loops each)\n"
     ]
    }
   ],
   "source": [
    "%%timeit\n",
    "factorialA(100)"
   ]
  },
  {
   "cell_type": "code",
   "execution_count": 5,
   "id": "e6d00103",
   "metadata": {},
   "outputs": [],
   "source": [
    "def factorialB(x):\n",
    "    if x==1:\n",
    "        return 1\n",
    "    elif x > 1:\n",
    "        return x * factorialB(x-1)\n",
    "\n"
   ]
  },
  {
   "cell_type": "markdown",
   "id": "b7f7ca80",
   "metadata": {},
   "source": [
    "## Timing loop versus recursion"
   ]
  },
  {
   "cell_type": "code",
   "execution_count": 6,
   "id": "f020f03a",
   "metadata": {},
   "outputs": [
    {
     "name": "stdout",
     "output_type": "stream",
     "text": [
      "52.2 µs ± 170 ns per loop (mean ± std. dev. of 7 runs, 10000 loops each)\n"
     ]
    }
   ],
   "source": [
    "%%timeit\n",
    "factorialB(100)"
   ]
  },
  {
   "cell_type": "markdown",
   "id": "62b74eec",
   "metadata": {},
   "source": [
    "## This xboost video"
   ]
  },
  {
   "cell_type": "markdown",
   "id": "2cd0f56c",
   "metadata": {},
   "source": [
    "[xboost video](https://www.youtube.com/watch?v=Y7uNT0alrKk&ab_channel=ManningPublications)"
   ]
  },
  {
   "cell_type": "markdown",
   "id": "87a29913",
   "metadata": {},
   "source": [
    "## Black .. is it beautiful?"
   ]
  },
  {
   "cell_type": "code",
   "execution_count": null,
   "id": "a4db8396",
   "metadata": {},
   "outputs": [],
   "source": [
    "pip install black\n"
   ]
  },
  {
   "cell_type": "code",
   "execution_count": null,
   "id": "4e44f14b",
   "metadata": {},
   "outputs": [],
   "source": [
    "import itertools\n",
    "\n",
    "itertools.combinations(\"ABCD\", 2)"
   ]
  },
  {
   "cell_type": "code",
   "execution_count": null,
   "id": "97b70df9",
   "metadata": {},
   "outputs": [],
   "source": [
    "def combinations(iterable, r):\n",
    "    pool = tuple(iterable)\n",
    "    n = len(pool)\n",
    "    for indices in permutations(range(n), r):\n",
    "        if sorted(indices) == list(indices):\n",
    "            yield tuple(pool[i] for i in indices)"
   ]
  },
  {
   "cell_type": "code",
   "execution_count": null,
   "id": "d921bc3e",
   "metadata": {},
   "outputs": [],
   "source": [
    "combinations('ABCDEFG', 2)"
   ]
  },
  {
   "cell_type": "markdown",
   "id": "b02f5d6b",
   "metadata": {},
   "source": [
    "## Merging LaTex and MarkUp"
   ]
  },
  {
   "cell_type": "markdown",
   "id": "d4cb3f35",
   "metadata": {},
   "source": [
    "**This** equates for $\\sqrt{\\alpha^2 + \\beta^2 = \\zeta^2}$ even though $\\zeta$ should normally be **c**"
   ]
  },
  {
   "cell_type": "code",
   "execution_count": null,
   "id": "bb56355d",
   "metadata": {},
   "outputs": [],
   "source": [
    "pip install jupyterthemes"
   ]
  },
  {
   "cell_type": "code",
   "execution_count": null,
   "id": "d79d31a1",
   "metadata": {},
   "outputs": [],
   "source": []
  },
  {
   "cell_type": "code",
   "execution_count": null,
   "id": "127e25b3",
   "metadata": {},
   "outputs": [],
   "source": []
  }
 ],
 "metadata": {
  "kernelspec": {
   "display_name": "Task2",
   "language": "python",
   "name": "task2"
  },
  "language_info": {
   "codemirror_mode": {
    "name": "ipython",
    "version": 3
   },
   "file_extension": ".py",
   "mimetype": "text/x-python",
   "name": "python",
   "nbconvert_exporter": "python",
   "pygments_lexer": "ipython3",
   "version": "3.9.5"
  },
  "toc": {
   "base_numbering": 1,
   "nav_menu": {
    "height": "210px",
    "width": "251px"
   },
   "number_sections": true,
   "sideBar": true,
   "skip_h1_title": false,
   "title_cell": "Table of Contents",
   "title_sidebar": "Contents",
   "toc_cell": false,
   "toc_position": {},
   "toc_section_display": true,
   "toc_window_display": true
  },
  "varInspector": {
   "cols": {
    "lenName": 16,
    "lenType": 16,
    "lenVar": 40
   },
   "kernels_config": {
    "python": {
     "delete_cmd_postfix": "",
     "delete_cmd_prefix": "del ",
     "library": "var_list.py",
     "varRefreshCmd": "print(var_dic_list())"
    },
    "r": {
     "delete_cmd_postfix": ") ",
     "delete_cmd_prefix": "rm(",
     "library": "var_list.r",
     "varRefreshCmd": "cat(var_dic_list()) "
    }
   },
   "types_to_exclude": [
    "module",
    "function",
    "builtin_function_or_method",
    "instance",
    "_Feature"
   ],
   "window_display": false
  }
 },
 "nbformat": 4,
 "nbformat_minor": 5
}
